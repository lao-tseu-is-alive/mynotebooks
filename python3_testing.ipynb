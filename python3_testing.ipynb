{
 "cells": [
  {
   "cell_type": "markdown",
   "metadata": {},
   "source": [
    "## Mise en situation 2020 (Python3)"
   ]
  },
  {
   "cell_type": "markdown",
   "metadata": {},
   "source": [
    "### Citer les principaux types en Python"
   ]
  },
  {
   "cell_type": "markdown",
   "metadata": {},
   "source": [
    "https://docs.python.org/fr/3/library/datatypes.html\n",
    "\n",
    " + numbers.Number : créés par les littéraux numériques et renvoyés en tant que résultats par les opérateurs et les fonctions arithmétiques natives. Python distingue les entiers (**int,bool**), les nombres à virgule flottante (**float**) et les nombres complexes (**complex**).\n",
    "\n",
    "+ Python fournit les types natifs suivant : **dict, list, set, frozenset, et tuple**.\n",
    "+ La classe **str** est utilisée pour stocker des chaînes de caractères Unicode.\n",
    "+ Les classes **bytes et bytearray** des données binaires.\n",
    "+ Ensembles (**set, frozenset**) : Ils représentent les ensembles d'objets, non ordonnés, finis et dont les éléments sont uniques.\n",
    "    + Ensembles (set en anglais) : représentent les ensembles muables. Un ensemble est créé par la fonction native constructeur set() et peut être modifié par la suite à l'aide de différentes méthodes, par exemple add().\n",
    "    + Ensembles gelés (frozenset en anglais) Ils représentent les ensembles immuables. Ils sont créés par la fonction native constructeur frozenset(). Comme un ensemble gelé est immuable et hachable, il peut être utilisé comme élément d'un autre ensemble ou comme clé de dictionnaire.\n",
    "+ **None** est un type qui ne possède qu'une seule valeur. Il n'existe qu'un seul objet avec cette valeur. Vous accédez à cet objet avec le nom natif None. Il est utilisé pour signifier l'absence de valeur dans de nombreux cas, par exemple pour des fonctions qui ne retournent rien explicitement. Sa valeur booléenne est fausse."
   ]
  },
  {
   "cell_type": "markdown",
   "metadata": {},
   "source": [
    "#### Quels types de données sont immuables (« immutables » en anglais) en Python 3 ?"
   ]
  },
  {
   "cell_type": "markdown",
   "metadata": {},
   "source": [
    "https://docs.python.org/3/reference/datamodel.html?highlight=immutable\n",
    "\n",
    "+ Tous les types numbers.* tels que Number, Integral (bool,int), Real etc.. sont des objets immuables. Une fois  créés, leur valeur ne change pas. \n",
    "\n",
    "+ Ensembles gelés (frozenset en anglais) Ils représentent les ensembles immuables.\n",
    "\n",
    "+ Séquences immuables : Un objet de type de séquence immuable ne peut pas être modifié une fois qu'il a été créé. Si l'objet contient des références à d'autres objets, ces autres objets peuvent être muables et peuvent être modifiés ; cependant, les objets directement référencés par un objet immuable ne peuvent pas être modifiés. Les types suivants sont des séquences immuables :\n",
    "    + Chaînes de caractères (string en anglais) : est une séquence immuable de valeurs qui représentent des caractères Unicode. \n",
    "    + n-uplets (ou tuples) Les éléments d'un tuple sont n'importe quels objets Python. Les tuples de deux ou plus éléments sont formés par une liste d'expressions dont les éléments sont séparés par des virgules.\n",
    "    + Bytes : Les objets bytes sont des tableaux immuables. Les éléments sont des octets (donc composés de 8 bits), représentés par des entiers dans l'intervalle 0 à 255 inclus. Les littéraux bytes (tels que b'abc') et la fonction native constructeur bytes() peuvent être utilisés pour créer des objets bytes. Aussi, un objet bytes peut être décodé vers une chaîne via la méthode decode().\n"
   ]
  },
  {
   "cell_type": "code",
   "execution_count": 1,
   "metadata": {},
   "outputs": [],
   "source": [
    "A = (1,2,3,4,5) # quel est le type de A, comment modifier le deuxième élément par 10"
   ]
  },
  {
   "cell_type": "markdown",
   "metadata": {},
   "source": [
    "La variable A est de type \"tuple\", type qui permet de stocker des éléments pouvant être différents dans une structure \"immutable\"\n",
    "+ Un des avantages des tuples par rapport aux listes est la vitesse\n",
    "+ Tuples ont par définition une taille fixe (alors que les Listes sont dynamiques)\n",
    "+ Tuple est \"immutable\" alors qu'une structure de type list est \"mutable\".\n",
    "\n",
    "On ne peut ni ajouter ni enlever des élements d'un \"tuple\"."
   ]
  },
  {
   "cell_type": "code",
   "execution_count": 2,
   "metadata": {},
   "outputs": [
    {
     "ename": "NameError",
     "evalue": "name 'x' is not defined",
     "output_type": "error",
     "traceback": [
      "\u001b[0;31m---------------------------------------------------------------------------\u001b[0m",
      "\u001b[0;31mNameError\u001b[0m                                 Traceback (most recent call last)",
      "\u001b[0;32m<ipython-input-2-73a4d7dbe54d>\u001b[0m in \u001b[0;36m<module>\u001b[0;34m\u001b[0m\n\u001b[1;32m      1\u001b[0m \u001b[0mA\u001b[0m \u001b[0;34m=\u001b[0m \u001b[0;34m(\u001b[0m\u001b[0;36m1\u001b[0m\u001b[0;34m,\u001b[0m\u001b[0;36m2\u001b[0m\u001b[0;34m,\u001b[0m\u001b[0;36m3\u001b[0m\u001b[0;34m,\u001b[0m\u001b[0;36m4\u001b[0m\u001b[0;34m,\u001b[0m\u001b[0;36m5\u001b[0m\u001b[0;34m)\u001b[0m\u001b[0;34m\u001b[0m\u001b[0;34m\u001b[0m\u001b[0m\n\u001b[0;32m----> 2\u001b[0;31m \u001b[0mprint\u001b[0m\u001b[0;34m(\u001b[0m\u001b[0mtype\u001b[0m\u001b[0;34m(\u001b[0m\u001b[0mx\u001b[0m\u001b[0;34m)\u001b[0m\u001b[0;34m)\u001b[0m\u001b[0;34m\u001b[0m\u001b[0;34m\u001b[0m\u001b[0m\n\u001b[0m\u001b[1;32m      3\u001b[0m \u001b[0mprint\u001b[0m\u001b[0;34m(\u001b[0m\u001b[0;36m2\u001b[0m \u001b[0;32min\u001b[0m \u001b[0mx\u001b[0m\u001b[0;34m)\u001b[0m\u001b[0;34m\u001b[0m\u001b[0;34m\u001b[0m\u001b[0m\n\u001b[1;32m      4\u001b[0m \u001b[0mx\u001b[0m\u001b[0;34m[\u001b[0m\u001b[0;36m1\u001b[0m\u001b[0;34m]\u001b[0m\u001b[0;34m=\u001b[0m\u001b[0;36m10\u001b[0m       \u001b[0;31m# va générer une erreur : TypeError: 'tuple' object does not support item assignment\u001b[0m\u001b[0;34m\u001b[0m\u001b[0;34m\u001b[0m\u001b[0m\n\u001b[1;32m      5\u001b[0m \u001b[0mprint\u001b[0m\u001b[0;34m(\u001b[0m\u001b[0mx\u001b[0m\u001b[0;34m)\u001b[0m\u001b[0;34m\u001b[0m\u001b[0;34m\u001b[0m\u001b[0m\n",
      "\u001b[0;31mNameError\u001b[0m: name 'x' is not defined"
     ]
    }
   ],
   "source": [
    "A = (1,2,3,4,5)\n",
    "print(type(x))\n",
    "print(2 in x)\n",
    "x[1]=10       # va générer une erreur : TypeError: 'tuple' object does not support item assignment\n",
    "print(x)"
   ]
  },
  {
   "cell_type": "markdown",
   "metadata": {},
   "source": [
    "#### Pour pouvoir modifier un des éléments il faut utiliser le type List comme ci-après:"
   ]
  },
  {
   "cell_type": "code",
   "execution_count": 3,
   "metadata": {},
   "outputs": [
    {
     "name": "stdout",
     "output_type": "stream",
     "text": [
      "<class 'list'>\n",
      "[1, 10, 3, 4, 5]\n",
      "True\n"
     ]
    }
   ],
   "source": [
    "x = [1,2,3,4,5]  # ici on crée une liste\n",
    "print(type(x))\n",
    "x[1]=10       # avec une liste c'est possible\n",
    "print(x)\n",
    "print(10 in x)"
   ]
  },
  {
   "cell_type": "markdown",
   "metadata": {},
   "source": [
    "#### A partir d'une Liste on peut extraire les éléments distincts en utilisants un set :"
   ]
  },
  {
   "cell_type": "code",
   "execution_count": 4,
   "metadata": {},
   "outputs": [
    {
     "name": "stdout",
     "output_type": "stream",
     "text": [
      "{1, 2, 4, 6, 8, 9}\n"
     ]
    }
   ],
   "source": [
    "a = [1,2,2,2,4,6,1,8,9]    # ici on crée une liste\n",
    "ensemble = set(a) # que l'on convertit en set\n",
    "print(ensemble)"
   ]
  },
  {
   "cell_type": "markdown",
   "metadata": {},
   "source": [
    "#### Comment obtenir une liste de mots uniques (séparés par des espaces) avec le nombre d’occurrences de chacun de ces mots ?"
   ]
  },
  {
   "cell_type": "code",
   "execution_count": 5,
   "metadata": {},
   "outputs": [
    {
     "name": "stdout",
     "output_type": "stream",
     "text": [
      "{'langeur', \"l'automne,\", 'des', 'longs', 'sanglots', 'mon', 'me', 'blessent', 'de', '!', \"d'une\", 'violons', 'Les', 'monotone.', 'mois', \"l'automne\", 'coeur'}\n"
     ]
    },
    {
     "data": {
      "text/plain": [
       "[('langeur', 1),\n",
       " (\"l'automne,\", 1),\n",
       " ('des', 1),\n",
       " ('longs', 2),\n",
       " ('sanglots', 1),\n",
       " ('mon', 1),\n",
       " ('me', 1),\n",
       " ('blessent', 2),\n",
       " ('de', 2),\n",
       " ('!', 1),\n",
       " (\"d'une\", 1),\n",
       " ('violons', 1),\n",
       " ('Les', 2),\n",
       " ('monotone.', 1),\n",
       " ('mois', 1),\n",
       " (\"l'automne\", 1),\n",
       " ('coeur', 1)]"
      ]
     },
     "execution_count": 5,
     "metadata": {},
     "output_type": "execute_result"
    }
   ],
   "source": [
    "texte = \"Les sanglots longs des violons de l'automne, blessent mon coeur d'une langeur monotone. Les longs mois de l'automne me blessent !\"\n",
    "liste = texte.split()         # on convertit la chaine de caracatères en liste (espaces comme séparateurs par défaut)\n",
    "mots_uniques = set(liste)     # on extrait les mots uniques en utilisant un set\n",
    "print(mots_uniques)      \n",
    "[(mot,liste.count(mot)) for mot in mots_uniques]  # on peut maintenant utiliser liste.count(mot) pour gener\n"
   ]
  },
  {
   "cell_type": "code",
   "execution_count": 6,
   "metadata": {},
   "outputs": [
    {
     "name": "stdout",
     "output_type": "stream",
     "text": [
      "<class 'str'>\n",
      "T_o_t_o_ _l_e_ _h_a_r_i_c_o_t_ _!\n"
     ]
    }
   ],
   "source": [
    "s = \"Momo le haricot !\"\n",
    "# impossible de faire s[0]='T' car le type string est immutable\n",
    "print(type(s))\n",
    "l = list(s)\n",
    "l[0]='T'\n",
    "l[2]='t'\n",
    "print('_'.join(l))"
   ]
  },
  {
   "cell_type": "markdown",
   "metadata": {},
   "source": [
    "### Python Orienté Objet, implémenter une classe Point ?"
   ]
  },
  {
   "cell_type": "code",
   "execution_count": 7,
   "metadata": {},
   "outputs": [],
   "source": [
    "class Point(object):\n",
    "    \"\"\"\n",
    "    A simple 2D cartesian Point with x and y coordinates\n",
    "    \"\"\"\n",
    "    \n",
    "    def __init__(self,x=0.0,y=0.0):\n",
    "        self.x = float(x)\n",
    "        self.y = float(y)\n",
    "        \n",
    "    def __repr__(self):\n",
    "        return (\"Point(x={x}, y={y})\".format(x=self.x,y=self.y))\n",
    "    \n",
    "    def move(self,newx,newy):\n",
    "        \"\"\"\n",
    "        This method moves the point to newx,newy position\n",
    "        \"\"\"\n",
    "        self.x = float(newx)\n",
    "        self.y = float(newy)\n",
    "        \n",
    "    def moverel(self,dx,dy):\n",
    "        \"\"\"\n",
    "        This method moves the point ny dx,dy relative to its current position\n",
    "        \"\"\"\n",
    "        self.x += float(dx)\n",
    "        self.y += float(dy)\n",
    "        \n",
    "        "
   ]
  },
  {
   "cell_type": "code",
   "execution_count": 8,
   "metadata": {},
   "outputs": [
    {
     "name": "stdout",
     "output_type": "stream",
     "text": [
      "Point(x=3.0, y=5.0)\n"
     ]
    }
   ],
   "source": [
    "P1 = Point(3,5)\n",
    "print(P1)"
   ]
  },
  {
   "cell_type": "markdown",
   "metadata": {},
   "source": [
    "### Python Orienté Objet, implémenter une classe NamedPoint ?"
   ]
  },
  {
   "cell_type": "code",
   "execution_count": 9,
   "metadata": {},
   "outputs": [],
   "source": [
    "class NamedPoint(Point):\n",
    "    \n",
    "    def __init__(self,name,x,y):\n",
    "        Point.__init__(self,x,y)\n",
    "        self.name = name\n",
    "        \n",
    "    def __repr__(self):\n",
    "        return (\"NamedPoint(name={name},{point}) \".format(name=self.name, point= Point.__repr__(self)))"
   ]
  },
  {
   "cell_type": "code",
   "execution_count": 10,
   "metadata": {},
   "outputs": [
    {
     "name": "stdout",
     "output_type": "stream",
     "text": [
      "NamedPoint(name=P3,Point(x=3.0, y=3.0)) \n"
     ]
    }
   ],
   "source": [
    "P3 = NamedPoint('P3',3,3)    \n",
    "print(P3) "
   ]
  },
  {
   "cell_type": "markdown",
   "metadata": {},
   "source": [
    "### Python Orienté Objet :  référence, valeur et copie"
   ]
  },
  {
   "cell_type": "code",
   "execution_count": 11,
   "metadata": {},
   "outputs": [
    {
     "name": "stdout",
     "output_type": "stream",
     "text": [
      "Au début voici le contenu de P3 :\n",
      " NamedPoint(name=P3,Point(x=3.0, y=3.0)) \n",
      "A la fin toutes les modifications sur P3 ou P4 s'appliquent au même objet P4 est un alias de P3\n",
      "NamedPoint(name=P4,Point(x=1.0, y=1.0))  140189680788312\n",
      "NamedPoint(name=P4,Point(x=1.0, y=1.0))  140189680788312\n"
     ]
    }
   ],
   "source": [
    "P3 = NamedPoint('P3',3,3) \n",
    "print(\"Au début voici le contenu de P3 :\\n {p}\".format(p=P3))\n",
    "P4 = P3     # P3 et P4 pointe tous les deux sur le même objet P4 est un alias de P3\n",
    "P4.name = 'P4'\n",
    "P4.move(4,4)\n",
    "P3.move(1,1)\n",
    "print(\"A la fin toutes les modifications sur P3 ou P4 s'appliquent au même objet P4 est un alias de P3\")\n",
    "print(P3, id(P3))\n",
    "print(P4, id(P4))\n"
   ]
  },
  {
   "cell_type": "code",
   "execution_count": 12,
   "metadata": {},
   "outputs": [
    {
     "name": "stdout",
     "output_type": "stream",
     "text": [
      "NamedPoint(name=P3,Point(x=1.0, y=1.0))  140189680787864\n",
      "NamedPoint(name=P4,Point(x=4.0, y=4.0))  140189680789376\n"
     ]
    }
   ],
   "source": [
    "import copy                 # le module copy permet de palier a ce probleme si une methode clone n'existe pas\n",
    "P3 = NamedPoint('P3',3,3) \n",
    "P4 = copy.copy(P3)          # ici on cree une copie de P3 dans la varaible P4 avec un nouvel emplacement mémoire\n",
    "P4.name = 'P4'          \n",
    "P4.move(4,4)\n",
    "P3.move(1,1)\n",
    "print(P3, id(P3))\n",
    "print(P4, id(P4))"
   ]
  },
  {
   "cell_type": "markdown",
   "metadata": {},
   "source": [
    "### Qu’est-ce qui est affiché par la dernière ligne ?"
   ]
  },
  {
   "cell_type": "code",
   "execution_count": 13,
   "metadata": {},
   "outputs": [
    {
     "name": "stdout",
     "output_type": "stream",
     "text": [
      "54321\n",
      "12346\n"
     ]
    }
   ],
   "source": [
    "id=54321   # attention danger ! ici on vient de redefinir la fonction builtin id PAS BIEN DU TOUT !\n",
    "class Account:\n",
    "    def __init__(self, id):\n",
    "        self.id = id + 1 # on stocke la valeur du parametre id dans l'attribut de la classe id en y ajoutant 1\n",
    "        id = 0        # ici id correspond à une variable locale n'existant que dans la fonction (portée locale)\n",
    "print(id) \n",
    "acc = Account(id=12345) # id ici correspond au nom du paramètre\n",
    "print(acc.id)"
   ]
  },
  {
   "cell_type": "markdown",
   "metadata": {},
   "source": [
    "### Qu’est-ce qui est affiché par la dernière ligne ?"
   ]
  },
  {
   "cell_type": "code",
   "execution_count": 14,
   "metadata": {},
   "outputs": [
    {
     "name": "stdout",
     "output_type": "stream",
     "text": [
      "6\n",
      "{1: 4, '1': 2}\n"
     ]
    }
   ],
   "source": [
    "confusion = {}              # on initialise un dictionary vide\n",
    "confusion[1] = 1            # on ajoute une entrée au dict avec la clé d'accès 1\n",
    "confusion['1'] = 2          # on ajoute une nouvelle entrée au dict avec la clé d'accès '1'\n",
    "confusion[1.0] = 4          # on modifie l'entrée du dict avec la clé d'accès 1  1.0 ou 1 c'est pareil\n",
    " \n",
    "somme = 0\n",
    "for k in confusion:\n",
    "    somme += confusion[k]\n",
    " \n",
    "print(somme)\n",
    "print(confusion)"
   ]
  },
  {
   "cell_type": "markdown",
   "metadata": {},
   "source": [
    "### Qu’est-ce qui est affiché par la dernière ligne ?"
   ]
  },
  {
   "cell_type": "code",
   "execution_count": 15,
   "metadata": {},
   "outputs": [
    {
     "name": "stdout",
     "output_type": "stream",
     "text": [
      "yes\n"
     ]
    }
   ],
   "source": [
    "x = True\n",
    "y = False\n",
    "z = False\n",
    " \n",
    "if x or y and z:\n",
    "    print(\"yes\")\n",
    "else:\n",
    "    print(\"no\")"
   ]
  },
  {
   "cell_type": "markdown",
   "metadata": {},
   "source": [
    "### Classer la liste par ordre décroissant de quantité :"
   ]
  },
  {
   "cell_type": "code",
   "execution_count": 16,
   "metadata": {},
   "outputs": [],
   "source": [
    "inventaire = [(\"pommes\", 22),(\"melons\", 4),(\"poires\", 18),(\"fraises\", 76),(\"prunes\", 51)]\n",
    "#Classer cette liste selon la quantité de chaque fruit par ordre décroissant"
   ]
  },
  {
   "cell_type": "code",
   "execution_count": 17,
   "metadata": {},
   "outputs": [
    {
     "name": "stdout",
     "output_type": "stream",
     "text": [
      "[(22, 'pommes'), (4, 'melons'), (18, 'poires'), (76, 'fraises'), (51, 'prunes')]\n",
      "[('fraises', 76), ('prunes', 51), ('pommes', 22), ('poires', 18), ('melons', 4)]\n"
     ]
    }
   ],
   "source": [
    "inventaire_inverse = [(qtt, nom_fruit) for nom_fruit, qtt in inventaire]\n",
    "print(inventaire_inverse)\n",
    "inventaire_inverse.sort(reverse=True)\n",
    "inventaire = [(nom_fruit, qtt) for qtt , nom_fruit in inventaire_inverse]\n",
    "print(inventaire)"
   ]
  },
  {
   "cell_type": "markdown",
   "metadata": {},
   "source": [
    "### calculer la somme d’une liste de nombres "
   ]
  },
  {
   "cell_type": "code",
   "execution_count": 18,
   "metadata": {},
   "outputs": [
    {
     "name": "stdout",
     "output_type": "stream",
     "text": [
      "<class 'list'>\n",
      "503194\n",
      "69.4 µs ± 1.39 µs per loop (mean ± std. dev. of 7 runs, 10000 loops each)\n"
     ]
    }
   ],
   "source": [
    "import numpy as np\n",
    "import numpy.random as nprnd\n",
    "liste = nprnd.randint(1000, size=1000)\n",
    "print(type(list(liste)))\n",
    "print(sum(list(liste)))\n",
    "%timeit sum(list(liste))"
   ]
  },
  {
   "cell_type": "code",
   "execution_count": 19,
   "metadata": {},
   "outputs": [
    {
     "name": "stdout",
     "output_type": "stream",
     "text": [
      "503194\n",
      "130 µs ± 910 ns per loop (mean ± std. dev. of 7 runs, 10000 loops each)\n"
     ]
    }
   ],
   "source": [
    "import functools\n",
    "print(functools.reduce(lambda x,y: x+y, liste))\n",
    "%timeit functools.reduce(lambda x,y: x+y, liste)"
   ]
  },
  {
   "cell_type": "code",
   "execution_count": 20,
   "metadata": {},
   "outputs": [
    {
     "name": "stdout",
     "output_type": "stream",
     "text": [
      "503194\n",
      "2.44 µs ± 6.66 ns per loop (mean ± std. dev. of 7 runs, 100000 loops each)\n"
     ]
    }
   ],
   "source": [
    "print(np.sum(liste))\n",
    "%timeit np.sum(liste)"
   ]
  },
  {
   "cell_type": "markdown",
   "metadata": {},
   "source": [
    "### Calculer la somme d’une liste des nombres impairs :"
   ]
  },
  {
   "cell_type": "code",
   "execution_count": 21,
   "metadata": {},
   "outputs": [],
   "source": [
    "liste = [2,1,1,2,4,1,3]"
   ]
  },
  {
   "cell_type": "code",
   "execution_count": 22,
   "metadata": {},
   "outputs": [
    {
     "name": "stdout",
     "output_type": "stream",
     "text": [
      "[1, 1, 1, 3]\n"
     ]
    },
    {
     "data": {
      "text/plain": [
       "6"
      ]
     },
     "execution_count": 22,
     "metadata": {},
     "output_type": "execute_result"
    }
   ],
   "source": [
    "liste_filtree = [i for i in liste if i % 2 ==1]\n",
    "print(liste_filtree)\n",
    "sum(liste_filtree)"
   ]
  },
  {
   "cell_type": "markdown",
   "metadata": {},
   "source": [
    "### Transformez cette liste pour qu'il ne reste que des éléments unique  :"
   ]
  },
  {
   "cell_type": "code",
   "execution_count": 23,
   "metadata": {},
   "outputs": [
    {
     "data": {
      "text/plain": [
       "[1, 2, 3, 4]"
      ]
     },
     "execution_count": 23,
     "metadata": {},
     "output_type": "execute_result"
    }
   ],
   "source": [
    "liste = [2,1,1,2,4,1,3]\n",
    "list(set(liste))"
   ]
  },
  {
   "cell_type": "markdown",
   "metadata": {},
   "source": [
    "### Meilleur pratique pour ouvrir un fichier:"
   ]
  },
  {
   "cell_type": "code",
   "execution_count": 24,
   "metadata": {},
   "outputs": [
    {
     "name": "stdout",
     "output_type": "stream",
     "text": [
      "Overwriting test.txt\n"
     ]
    }
   ],
   "source": [
    "%%writefile test.txt\n",
    "Ceci est la ligne numéro 1\n",
    "et la ligne numéro deux\n",
    "d'un fichier texte qui au final contiendra\n",
    "quatre lignes !"
   ]
  },
  {
   "cell_type": "code",
   "execution_count": 25,
   "metadata": {},
   "outputs": [
    {
     "name": "stdout",
     "output_type": "stream",
     "text": [
      "ERROR OPENING FILE : test2.txt\n",
      "[Errno 2] No such file or directory: 'test2.txt'\n"
     ]
    }
   ],
   "source": [
    "# 1) Comment ouvrir un fichier en lecture en traitant les exceptions possibles ?\n",
    "my_file = 'test2.txt'\n",
    "try:\n",
    "    f = open(my_file)\n",
    "\n",
    "    try:\n",
    "        all = f.readlines()        \n",
    "        print(\"FILE : {file} contains {numlines:06d} lines \".format(file=my_file,numlines=len(all)))\n",
    "    except EXPECTED_EXCEPTION_TYPES as e:\n",
    "        print(\"ERROR READING FILE : {file}\".format(file=my_file))\n",
    "        print(e)\n",
    "    finally:\n",
    "        f.close()\n",
    "\n",
    "except (IOError, OSError) as e:\n",
    "    print(\"ERROR OPENING FILE : {file}\".format(file=my_file))\n",
    "    print(e)\n",
    "# https://pyformat.info/"
   ]
  },
  {
   "cell_type": "code",
   "execution_count": 26,
   "metadata": {},
   "outputs": [
    {
     "name": "stdout",
     "output_type": "stream",
     "text": [
      "['Ceci est la ligne numéro 1\\n', 'et la ligne numéro deux\\n', \"d'un fichier texte qui au final contiendra\\n\", 'quatre lignes !\\n']\n",
      "FILE : test.txt contains 000004 lines \n"
     ]
    }
   ],
   "source": [
    "my_file = 'test.txt'\n",
    "with open(my_file) as f:\n",
    "    all = f.readlines()\n",
    "    print(all)\n",
    "    print(\"FILE : {file} contains {numlines:06d} lines \".format(file=my_file,numlines=len(all)))\n",
    "    "
   ]
  },
  {
   "cell_type": "markdown",
   "metadata": {},
   "source": [
    "### Connaissances web framework python  :"
   ]
  },
  {
   "cell_type": "markdown",
   "metadata": {
    "collapsed": true
   },
   "source": [
    "[Python Web frameworks](http://www.fullstackpython.com/web-frameworks.html)\n",
    "![web frameworks logos](https://i.imgur.com/d3jNLfN.jpg)\n",
    " \n",
    "#### Citer 5 web frameworks python, lesquels connaissez-vous ?\n",
    " \n",
    " 1. [Django](https://www.djangoproject.com/)\n",
    " 2. [Flask](http://flask.pocoo.org/)\n",
    " 3. [Pyramid](http://www.pylonsproject.org/)\n",
    " 4. [Web2Py](http://www.web2py.com/)\n",
    " 5. [Turbogears2](http://www.turbogears.org/)\n",
    " 6. [Falcon](http://falconframework.org/)\n",
    " 7. [Bottle](http://bottlepy.org/docs/dev/index.html)\n",
    " 8. [CherryPy](http://www.cherrypy.org/)\n",
    " 9. [Muffin](https://github.com/klen/muffin)\n",
    " 10. [Tornado](http://www.tornadoweb.org/en/stable/)\n",
    " \n",
    "#### Quels sont les fonctions essentielles d’un web framework ?\n",
    " \n",
    " certaines fonctions de base incluent :\n",
    " \n",
    "- URL routing\n",
    "- HTML, XML, JSON, and other output format templating\n",
    "- Database manipulation\n",
    "- Security against Cross-site request forgery (CSRF) and other attacks\n",
    "- Session storage and retrieval\n",
    " \n",
    "#### Quels sont les avantages / inconvénients de ces frameworks ?\n",
    " [Django vs Flask vs Pyramid: Choosing a Python Web Framework](https://www.airpair.com/python/posts/django-flask-pyramid)\n",
    "[Pirates use Flask, the Navy uses Django](https://wakatime.com/blog/25-pirates-use-flask-the-navy-uses-django)\n",
    "\n",
    "[Performance of some python web frameworks](http://klen.github.io/py-frameworks-bench/)\n",
    "\n",
    "![performance of web frameworks](https://wakatime.com/static/img/blog/django-vs-flask-performance-insignificant.png)\n"
   ]
  },
  {
   "cell_type": "code",
   "execution_count": null,
   "metadata": {
    "collapsed": true
   },
   "outputs": [],
   "source": []
  }
 ],
 "metadata": {
  "kernelspec": {
   "display_name": "Python 3",
   "language": "python",
   "name": "python3"
  },
  "language_info": {
   "codemirror_mode": {
    "name": "ipython",
    "version": 3
   },
   "file_extension": ".py",
   "mimetype": "text/x-python",
   "name": "python",
   "nbconvert_exporter": "python",
   "pygments_lexer": "ipython3",
   "version": "3.6.9"
  }
 },
 "nbformat": 4,
 "nbformat_minor": 1
}
